{
 "cells": [
  {
   "cell_type": "code",
   "execution_count": 1,
   "metadata": {},
   "outputs": [],
   "source": [
    "import re\n",
    "import instructor\n",
    "from os import environ\n",
    "from bs4 import BeautifulSoup\n",
    "from openai import AsyncOpenAI\n",
    "from pydantic import BaseModel, Field\n"
   ]
  },
  {
   "cell_type": "code",
   "execution_count": 2,
   "metadata": {},
   "outputs": [],
   "source": [
    "openrouter_api_key = environ.get(\"OPENROUTER_API_KEY\")\n",
    "\n",
    "if not openrouter_api_key:\n",
    "    raise ValueError(\"OPENROUTER_API_KEY is not set\")\n",
    "default_model = \"google/gemini-2.0-flash-lite-001\"\n",
    "openai_client = AsyncOpenAI(\n",
    "    base_url=\"https://openrouter.ai/api/v1\", api_key=openrouter_api_key\n",
    ")\n",
    "instructor_client = instructor.from_openai(openai_client)\n"
   ]
  },
  {
   "cell_type": "code",
   "execution_count": 11,
   "metadata": {},
   "outputs": [],
   "source": [
    "class Article(BaseModel, extra=\"allow\"):\n",
    "    authors: str = Field(\n",
    "        description=\"The list authors of the article, separated by commas\"\n",
    "    )\n",
    "    title: str = Field(description=\"The title of the article\")\n",
    "    journal: str = Field(description=\"The journal of the article\")\n",
    "    city: str = Field(description=\"The city of the article\")\n"
   ]
  },
  {
   "cell_type": "code",
   "execution_count": 7,
   "metadata": {},
   "outputs": [],
   "source": [
    "system_prompt = \"Você é um assistente prestativo que extrai informações de um texto fornecido. Você receberá o texto de uma citação e precisará extrair as informações no formato especificado pelo esquema.\"\n"
   ]
  },
  {
   "cell_type": "code",
   "execution_count": 4,
   "metadata": {},
   "outputs": [],
   "source": [
    "def extract_clean_text(element):\n",
    "    \"\"\"\n",
    "    Extract clean text content from an HTML element, ignoring images and other unwanted content.\n",
    "    \"\"\"\n",
    "    if not element:\n",
    "        return \"\"\n",
    "\n",
    "    # Create a copy to avoid modifying the original\n",
    "    temp_element = element.__copy__()\n",
    "\n",
    "    # Remove unwanted elements\n",
    "    unwanted_tags = [\"img\", \"sup\"]  # Add more tags as needed\n",
    "    for tag in unwanted_tags:\n",
    "        for unwanted in temp_element.find_all(tag):\n",
    "            unwanted.decompose()\n",
    "\n",
    "    # Get clean text\n",
    "    text = temp_element.get_text(separator=\" \", strip=True)\n",
    "\n",
    "    # Clean up multiple whitespaces\n",
    "    text = re.sub(r\"\\s+\", \" \", text).strip()\n",
    "\n",
    "    return text\n"
   ]
  },
  {
   "cell_type": "code",
   "execution_count": null,
   "metadata": {},
   "outputs": [],
   "source": [
    "with open(\"./resumes/0036766179644104.html\", \"r\") as file:\n",
    "    html_content = file.read()\n",
    "\n",
    "soup = BeautifulSoup(html_content, \"lxml\")\n",
    "\n",
    "\n",
    "async def extract_article(soup):\n",
    "    artigos_completos = soup.find(\"div\", id=\"artigos-completos\")\n",
    "    if artigos_completos:\n",
    "        artigos = []\n",
    "        entries = artigos_completos.find_all(\"span\", class_=\"transform\")\n",
    "        for entry in entries:\n",
    "            year = entry.find(\"span\", attrs={\"data-tipo-ordenacao\": \"ano\"}).get_text(\n",
    "                strip=True\n",
    "            )\n",
    "            citation = extract_clean_text(entry)\n",
    "            data = await instructor_client.chat.completions.create(\n",
    "                model=default_model,\n",
    "                messages=[\n",
    "                    {\"role\": \"system\", \"content\": system_prompt},\n",
    "                    {\"role\": \"user\", \"content\": citation},\n",
    "                ],\n",
    "                response_model=Article,\n",
    "            )\n",
    "            data.year = year  # type: ignore\n",
    "            artigos.append(data)\n",
    "        return artigos\n",
    "    return []\n"
   ]
  },
  {
   "cell_type": "code",
   "execution_count": 12,
   "metadata": {},
   "outputs": [
    {
     "name": "stdout",
     "output_type": "stream",
     "text": [
      "authors='GOHN, MARIA DA GLORIA; PENTEADO, CLAUDIO LUIS DE CAMARGO; MORALES, ERNESTO' title='Colectivos' journal='Civitas' city='Porto Alegre'\n"
     ]
    }
   ],
   "source": [
    "try:\n",
    "    response = await instructor_client.chat.completions.create(\n",
    "        model=default_model,\n",
    "        messages=[\n",
    "            {\"role\": \"system\", \"content\": system_prompt},\n",
    "            {\"role\": \"user\", \"content\": citations[0]},\n",
    "        ],\n",
    "        response_model=Article,\n",
    "    )\n",
    "except Exception as e:\n",
    "    print(e)\n",
    "\n",
    "print(response)\n"
   ]
  },
  {
   "cell_type": "code",
   "execution_count": 13,
   "metadata": {},
   "outputs": [],
   "source": [
    "response.year = 2025\n"
   ]
  },
  {
   "cell_type": "code",
   "execution_count": 14,
   "metadata": {},
   "outputs": [
    {
     "name": "stdout",
     "output_type": "stream",
     "text": [
      "authors='GOHN, MARIA DA GLORIA; PENTEADO, CLAUDIO LUIS DE CAMARGO; MORALES, ERNESTO' title='Colectivos' journal='Civitas' city='Porto Alegre' year=2025\n"
     ]
    }
   ],
   "source": [
    "print(response)\n"
   ]
  }
 ],
 "metadata": {
  "kernelspec": {
   "display_name": ".venv",
   "language": "python",
   "name": "python3"
  },
  "language_info": {
   "codemirror_mode": {
    "name": "ipython",
    "version": 3
   },
   "file_extension": ".py",
   "mimetype": "text/x-python",
   "name": "python",
   "nbconvert_exporter": "python",
   "pygments_lexer": "ipython3",
   "version": "3.13.1"
  }
 },
 "nbformat": 4,
 "nbformat_minor": 2
}
